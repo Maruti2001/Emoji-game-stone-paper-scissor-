{
 "cells": [
  {
   "cell_type": "code",
   "execution_count": null,
   "id": "b380de60-40a9-4d70-b2da-6276839feea1",
   "metadata": {},
   "outputs": [],
   "source": [
    "stone=(emoji.emojize(':left-facing_fist:'))\n",
    "print(stone)\n",
    "paper=(emoji.emojize(':waving_hand:'))\n",
    "print(paper)\n",
    "scissor=(emoji.emojize(':victory_hand:'))\n",
    "print(scissor)\n",
    "\n",
    "player=[\"stone\",\"paper\",\"scissor\"]\n",
    "player_points=0\n",
    "pc_points=0\n",
    "i=1\n",
    "while (i<=10):\n",
    "    pc=random.choice(player)\n",
    "    player=input(\"enter your choice any one\\n\")\n",
    "    if pc==player:\n",
    "        print(\"tie\")\n",
    "        print(\"0 points\")\n",
    "        print(f\" pc is {pc_points} and your point is {player_points}.\")\n",
    "    elif player==\"paper\" and pc==\"stone\":\n",
    "        pc_points=pc_points+1\n",
    "        print(\"you lose , pc is win\")\n",
    "        print(f\" pc is {pc_points} and your point is {player_points}.\")\n",
    "    elif player==\"stone\" and pc ==\"scissor\":\n",
    "        player_points=player_points+1\n",
    "        print(\"you win,pc is lose\")\n",
    "        print(f\" pc is {pc_points} and your point is {player_points}.\")\n",
    "    elif player==\"stone\" and pc ==\"paper\":\n",
    "        player_points=player_points+1\n",
    "        print(\"you lose,pc is win\")\n",
    "        print(f\" pc is {pc_points} and your point is {player_points}.\")\n",
    "    elif player==\"scissor\" and pc==\"paper\":\n",
    "        player_points=pc_points+1\n",
    "        print(\"you lose,pc is win\")\n",
    "        print(f\" pc is {pc_points} and your point is {player_points}.\")\n",
    "    elif player==\"scissor\" and pc==\"paper\":\n",
    "        player_points=player_points+1\n",
    "        print(\"you win,pc is lose\")\n",
    "        print(f\" pc is {pc_points} and your point is {player_points}.\")\n",
    "    else:\n",
    "        print(\"spelling mistake, check your spelling:-\")\n",
    "        print(f\"pc is {pc_points} and your points is {player_points}\")\n",
    "        print(i,\"no.of gusses you finish.\")\n",
    "    print(10-i,\"no.of gusses left.\\n\")\n",
    "\n",
    "    i=i+1\n",
    "if (i>10):\n",
    "    print(\"game over\")\n",
    "if pc_points==player_points:\n",
    "    print(\"tie\")\n",
    "elif pc_points > player_points:\n",
    "    print(\"pc wins and you lose\")\n",
    "else:\n",
    "    print(\"you win \")\n",
    "print(f\"your points is {player_points} and pc points is {pc_points}\")\n",
    "from pydoc import importfile"
   ]
  }
 ],
 "metadata": {
  "kernelspec": {
   "display_name": "Python 3 (ipykernel)",
   "language": "python",
   "name": "python3"
  },
  "language_info": {
   "codemirror_mode": {
    "name": "ipython",
    "version": 3
   },
   "file_extension": ".py",
   "mimetype": "text/x-python",
   "name": "python",
   "nbconvert_exporter": "python",
   "pygments_lexer": "ipython3",
   "version": "3.13.0"
  }
 },
 "nbformat": 4,
 "nbformat_minor": 5
}
